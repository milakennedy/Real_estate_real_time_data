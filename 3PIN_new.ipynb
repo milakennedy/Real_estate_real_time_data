{
 "cells": [
  {
   "cell_type": "code",
   "execution_count": 1,
   "metadata": {
    "colab": {
     "base_uri": "https://localhost:8080/"
    },
    "id": "cyWDsSZwqxOF",
    "outputId": "924ce2b8-8f88-4b3e-9136-bf071f21013c"
   },
   "outputs": [
    {
     "name": "stdout",
     "output_type": "stream",
     "text": [
      "Requirement already satisfied: catboost in c:\\users\\sharmila\\anaconda3\\lib\\site-packages (1.1.1)\n",
      "Requirement already satisfied: six in c:\\users\\sharmila\\anaconda3\\lib\\site-packages (from catboost) (1.16.0)\n",
      "Requirement already satisfied: plotly in c:\\users\\sharmila\\anaconda3\\lib\\site-packages (from catboost) (5.9.0)\n",
      "Requirement already satisfied: numpy>=1.16.0 in c:\\users\\sharmila\\anaconda3\\lib\\site-packages (from catboost) (1.21.5)\n",
      "Requirement already satisfied: pandas>=0.24.0 in c:\\users\\sharmila\\anaconda3\\lib\\site-packages (from catboost) (1.4.4)\n",
      "Requirement already satisfied: matplotlib in c:\\users\\sharmila\\anaconda3\\lib\\site-packages (from catboost) (3.5.2)\n",
      "Requirement already satisfied: graphviz in c:\\users\\sharmila\\anaconda3\\lib\\site-packages (from catboost) (0.20.1)\n",
      "Requirement already satisfied: scipy in c:\\users\\sharmila\\anaconda3\\lib\\site-packages (from catboost) (1.9.1)\n",
      "Requirement already satisfied: pytz>=2020.1 in c:\\users\\sharmila\\anaconda3\\lib\\site-packages (from pandas>=0.24.0->catboost) (2022.1)\n",
      "Requirement already satisfied: python-dateutil>=2.8.1 in c:\\users\\sharmila\\anaconda3\\lib\\site-packages (from pandas>=0.24.0->catboost) (2.8.2)\n",
      "Requirement already satisfied: pyparsing>=2.2.1 in c:\\users\\sharmila\\anaconda3\\lib\\site-packages (from matplotlib->catboost) (3.0.9)\n",
      "Requirement already satisfied: kiwisolver>=1.0.1 in c:\\users\\sharmila\\anaconda3\\lib\\site-packages (from matplotlib->catboost) (1.4.2)\n",
      "Requirement already satisfied: pillow>=6.2.0 in c:\\users\\sharmila\\anaconda3\\lib\\site-packages (from matplotlib->catboost) (9.2.0)\n",
      "Requirement already satisfied: fonttools>=4.22.0 in c:\\users\\sharmila\\anaconda3\\lib\\site-packages (from matplotlib->catboost) (4.25.0)\n",
      "Requirement already satisfied: cycler>=0.10 in c:\\users\\sharmila\\anaconda3\\lib\\site-packages (from matplotlib->catboost) (0.11.0)\n",
      "Requirement already satisfied: packaging>=20.0 in c:\\users\\sharmila\\anaconda3\\lib\\site-packages (from matplotlib->catboost) (21.3)\n",
      "Requirement already satisfied: tenacity>=6.2.0 in c:\\users\\sharmila\\anaconda3\\lib\\site-packages (from plotly->catboost) (8.0.1)\n"
     ]
    }
   ],
   "source": [
    "import pandas as pd\n",
    "import numpy as np\n",
    "import seaborn as sns\n",
    "from matplotlib import pyplot as plt\n",
    "!pip3 install catboost"
   ]
  },
  {
   "cell_type": "code",
   "execution_count": 2,
   "metadata": {
    "id": "V3UsPuvLrITh"
   },
   "outputs": [],
   "source": [
    "df=pd.read_csv(\"3PIN.csv\")"
   ]
  },
  {
   "cell_type": "code",
   "execution_count": 3,
   "metadata": {
    "colab": {
     "base_uri": "https://localhost:8080/"
    },
    "id": "gGUvzGOn8thC",
    "outputId": "c1abab47-73cc-4084-89f0-9ca0663299a0"
   },
   "outputs": [
    {
     "data": {
      "text/plain": [
       "(945, 12)"
      ]
     },
     "execution_count": 3,
     "metadata": {},
     "output_type": "execute_result"
    }
   ],
   "source": [
    "df.shape"
   ]
  },
  {
   "cell_type": "code",
   "execution_count": 4,
   "metadata": {
    "id": "CWdH19GarSkm"
   },
   "outputs": [],
   "source": [
    "df=df.drop_duplicates(subset=['Property Details'], keep='last')"
   ]
  },
  {
   "cell_type": "code",
   "execution_count": 5,
   "metadata": {
    "colab": {
     "base_uri": "https://localhost:8080/"
    },
    "id": "uYuQ23vD8zD1",
    "outputId": "41d0752f-1a0a-4159-aaf9-c67a902f2c5e"
   },
   "outputs": [
    {
     "data": {
      "text/plain": [
       "(445, 12)"
      ]
     },
     "execution_count": 5,
     "metadata": {},
     "output_type": "execute_result"
    }
   ],
   "source": [
    "df.shape"
   ]
  },
  {
   "cell_type": "code",
   "execution_count": 6,
   "metadata": {
    "colab": {
     "base_uri": "https://localhost:8080/"
    },
    "id": "gx5J6MD13rJl",
    "outputId": "a4287704-ea0f-464a-a728-a09125d14886"
   },
   "outputs": [
    {
     "data": {
      "text/plain": [
       "Unnamed: 0           0\n",
       "Name                 0\n",
       "Property             0\n",
       "Type                 0\n",
       "Rentsale             0\n",
       "Property Details     0\n",
       "BHK                  0\n",
       "Amount               0\n",
       "Area                 0\n",
       "Status               0\n",
       "Source               0\n",
       "DaysonMkt           10\n",
       "dtype: int64"
      ]
     },
     "execution_count": 6,
     "metadata": {},
     "output_type": "execute_result"
    }
   ],
   "source": [
    "df.isnull().sum()"
   ]
  },
  {
   "cell_type": "code",
   "execution_count": 7,
   "metadata": {
    "id": "REZ2MpmbrWsu"
   },
   "outputs": [],
   "source": [
    "df=df[['Property','Type','Rentsale','BHK','Area','Source','DaysonMkt','Amount']]"
   ]
  },
  {
   "cell_type": "code",
   "execution_count": 8,
   "metadata": {
    "id": "O1rwTiHeLem8"
   },
   "outputs": [],
   "source": [
    "df.Area= df.Area.apply(lambda x: x.strip())\n",
    "location_stats = df['Area'].value_counts(ascending=False)\n",
    "#location_stats"
   ]
  },
  {
   "cell_type": "code",
   "execution_count": 9,
   "metadata": {
    "colab": {
     "base_uri": "https://localhost:8080/"
    },
    "id": "NfpVoDBNL0Ki",
    "outputId": "dedb143e-f6b1-4596-ef98-242979c42af5"
   },
   "outputs": [
    {
     "data": {
      "text/plain": [
       "445"
      ]
     },
     "execution_count": 9,
     "metadata": {},
     "output_type": "execute_result"
    }
   ],
   "source": [
    "location_stats.values.sum()"
   ]
  },
  {
   "cell_type": "code",
   "execution_count": 10,
   "metadata": {
    "colab": {
     "base_uri": "https://localhost:8080/"
    },
    "id": "V9yQx3QWL3gM",
    "outputId": "65669c77-f311-4387-83d3-e8bf8dc76560"
   },
   "outputs": [
    {
     "data": {
      "text/plain": [
       "32"
      ]
     },
     "execution_count": 10,
     "metadata": {},
     "output_type": "execute_result"
    }
   ],
   "source": [
    "len(location_stats[location_stats>3])"
   ]
  },
  {
   "cell_type": "code",
   "execution_count": 11,
   "metadata": {
    "colab": {
     "base_uri": "https://localhost:8080/"
    },
    "id": "MeQ2ZhydMC-u",
    "outputId": "a6c4b1ff-8970-45eb-b46f-3e20cf4c4ebb"
   },
   "outputs": [
    {
     "data": {
      "text/plain": [
       "123"
      ]
     },
     "execution_count": 11,
     "metadata": {},
     "output_type": "execute_result"
    }
   ],
   "source": [
    "len(location_stats)"
   ]
  },
  {
   "cell_type": "code",
   "execution_count": 12,
   "metadata": {
    "id": "b2xIA6YpMJcc"
   },
   "outputs": [],
   "source": [
    "location_stats_less_than_3 = location_stats[location_stats<=3]\n",
    "#location_stats_less_than_3"
   ]
  },
  {
   "cell_type": "code",
   "execution_count": 13,
   "metadata": {
    "colab": {
     "base_uri": "https://localhost:8080/"
    },
    "id": "YmMdc-8sMVRF",
    "outputId": "89643db5-6afe-4b6d-bcfd-fb1e2d2c8dfe"
   },
   "outputs": [
    {
     "data": {
      "text/plain": [
       "33"
      ]
     },
     "execution_count": 13,
     "metadata": {},
     "output_type": "execute_result"
    }
   ],
   "source": [
    "df.Area = df.Area.apply(lambda x: 'other' if x in location_stats_less_than_3 else x)\n",
    "len(df.Area.unique())"
   ]
  },
  {
   "cell_type": "code",
   "execution_count": 14,
   "metadata": {
    "id": "kgHvNIptQ2-Q"
   },
   "outputs": [],
   "source": [
    "def l_u(dataframe, col_name, th1=0.25, th3=0.75):\n",
    "    quartile1 = dataframe[col_name].quantile(th1)\n",
    "    quartile3 = dataframe[col_name].quantile(th3)\n",
    "    iqr = quartile3 - quartile1\n",
    "    upper_limit = quartile3 + 1.5 * iqr\n",
    "    lower_limit = quartile1 - 1.5 * iqr\n",
    "    return lower_limit, upper_limit"
   ]
  },
  {
   "cell_type": "code",
   "execution_count": 15,
   "metadata": {
    "colab": {
     "base_uri": "https://localhost:8080/"
    },
    "id": "LsWE7yk3S6mK",
    "outputId": "d9de5e60-db79-4f77-e135-d0ae015d2041"
   },
   "outputs": [
    {
     "data": {
      "text/plain": [
       "(445, 8)"
      ]
     },
     "execution_count": 15,
     "metadata": {},
     "output_type": "execute_result"
    }
   ],
   "source": [
    "df.shape"
   ]
  },
  {
   "cell_type": "code",
   "execution_count": 16,
   "metadata": {
    "colab": {
     "base_uri": "https://localhost:8080/"
    },
    "id": "311OoY36qUS1",
    "outputId": "d83f83fe-a9c6-40b6-e34a-c38934b95da4"
   },
   "outputs": [
    {
     "name": "stdout",
     "output_type": "stream",
     "text": [
      "bk1 (-150000.0, 410000.0)\n"
     ]
    }
   ],
   "source": [
    "bk1=df.loc[(df['Rentsale']=='Rent')]\n",
    "print('bk1',l_u(bk1,'Amount'))\n"
   ]
  },
  {
   "cell_type": "code",
   "execution_count": 17,
   "metadata": {
    "colab": {
     "base_uri": "https://localhost:8080/"
    },
    "id": "BnPlTp31q6Wv",
    "outputId": "c25b7ec0-0275-4523-eb00-80029654f565"
   },
   "outputs": [
    {
     "name": "stdout",
     "output_type": "stream",
     "text": [
      "bk2 (-25000000.0, 83000000.0)\n"
     ]
    }
   ],
   "source": [
    "bk2=df.loc[(df['Rentsale']=='Sale')]\n",
    "print('bk2',l_u(bk2,'Amount'))\n"
   ]
  },
  {
   "cell_type": "code",
   "execution_count": 18,
   "metadata": {
    "id": "J667qAA_q0Y_"
   },
   "outputs": [],
   "source": [
    "s1=bk1.loc[bk1['Amount']<410000.0]\n"
   ]
  },
  {
   "cell_type": "code",
   "execution_count": 19,
   "metadata": {
    "id": "kZYkG325rDHv"
   },
   "outputs": [],
   "source": [
    "s2=bk2.loc[bk2['Amount']<83000000.0]\n"
   ]
  },
  {
   "cell_type": "code",
   "execution_count": 20,
   "metadata": {
    "id": "3gfzE8jWr1SA"
   },
   "outputs": [],
   "source": [
    "df_s= pd.concat([s1,s2])\n"
   ]
  },
  {
   "cell_type": "code",
   "execution_count": 21,
   "metadata": {
    "colab": {
     "base_uri": "https://localhost:8080/"
    },
    "id": "PUYIOfjU3qE3",
    "outputId": "9346a89c-24b6-4019-bdac-25bd461fa848"
   },
   "outputs": [
    {
     "data": {
      "text/plain": [
       "(410, 8)"
      ]
     },
     "execution_count": 21,
     "metadata": {},
     "output_type": "execute_result"
    }
   ],
   "source": [
    "df_s.shape"
   ]
  },
  {
   "cell_type": "code",
   "execution_count": 22,
   "metadata": {
    "colab": {
     "base_uri": "https://localhost:8080/",
     "height": 648
    },
    "id": "bH1KGpInNMsX",
    "outputId": "272eae4b-bff8-4d22-8479-286cfd5097dd"
   },
   "outputs": [
    {
     "data": {
      "image/png": "[encoded data removed]",
      "text/plain": [
       "<Figure size 1600x600 with 1 Axes>"
      ]
     },
     "metadata": {},
     "output_type": "display_data"
    }
   ],
   "source": [
    "\n",
    "fig, ax = plt.subplots(figsize=(16,6))\n",
    "#ax = fig.add_subplot(111)\n",
    "top_area = df_s.sort_values('Amount',ascending=False).head(20)\n",
    "mean = pd.DataFrame({'Area':['Area mean'], 'Amount':[df_s['Amount'].mean()]})\n",
    "gdps = pd.concat([top_area[['Area','Amount']],mean],ignore_index=True)\n",
    "\n",
    "sns.barplot(x='Area',y='Amount',data=gdps, palette='Set3')\n",
    "ax.set_xlabel(ax.get_xlabel(),labelpad=15)\n",
    "ax.set_ylabel(ax.get_ylabel(),labelpad=30)\n",
    "ax.xaxis.label.set_fontsize(16)\n",
    "ax.yaxis.label.set_fontsize(16)\n",
    "plt.xticks(rotation=90)\n",
    "plt.show()"
   ]
  },
  {
   "cell_type": "code",
   "execution_count": 23,
   "metadata": {
    "colab": {
     "base_uri": "https://localhost:8080/",
     "height": 406
    },
    "id": "E8JwZRLl7Pjn",
    "outputId": "c05a13da-236f-4d9a-fbe7-24273ad38862"
   },
   "outputs": [
    {
     "data": {
      "image/png": "[encoded data removed]",
      "text/plain": [
       "<Figure size 640x480 with 1 Axes>"
      ]
     },
     "metadata": {},
     "output_type": "display_data"
    }
   ],
   "source": [
    "count_rs=df_s['Rentsale'].value_counts()\n",
    "mylabels = [\"Rent\", \"Sale\"]\n",
    "myexplode = [0.2,0]\n",
    "plt.pie(x=count_rs,labels=mylabels,explode=myexplode)\n",
    "plt.show()"
   ]
  },
  {
   "cell_type": "code",
   "execution_count": 24,
   "metadata": {
    "colab": {
     "base_uri": "https://localhost:8080/",
     "height": 494
    },
    "id": "zBeFk_aF7lbM",
    "outputId": "d5e1d388-89f7-44b0-ee85-d95f00051a36"
   },
   "outputs": [
    {
     "data": {
      "text/plain": [
       "[Text(0.5, 0, 'Type'),\n",
       " Text(0, 0.5, 'Count of the Types'),\n",
       " Text(0.5, 1.0, 'Type of the property ')]"
      ]
     },
     "execution_count": 24,
     "metadata": {},
     "output_type": "execute_result"
    },
    {
     "data": {
      "image/png": "[encoded data removed]",
      "text/plain": [
       "<Figure size 1500x500 with 1 Axes>"
      ]
     },
     "metadata": {},
     "output_type": "display_data"
    }
   ],
   "source": [
    "fig, ax = plt.subplots(figsize=(15, 5))\n",
    "gfg=sns.countplot(x='Type',\n",
    "              data=df_s, ax=ax)\n",
    "gfg.set(xlabel =\"Type\", ylabel = \"Count of the Types\", title ='Type of the property ')"
   ]
  },
  {
   "cell_type": "code",
   "execution_count": 25,
   "metadata": {
    "colab": {
     "base_uri": "https://localhost:8080/"
    },
    "id": "h5jMxuv0V46w",
    "outputId": "b7b86207-d9dd-48b4-a645-70ef14643639"
   },
   "outputs": [
    {
     "data": {
      "text/plain": [
       "(410, 8)"
      ]
     },
     "execution_count": 25,
     "metadata": {},
     "output_type": "execute_result"
    }
   ],
   "source": [
    "df_s.shape"
   ]
  },
  {
   "cell_type": "code",
   "execution_count": 26,
   "metadata": {
    "id": "mgC1-pJjitCJ"
   },
   "outputs": [],
   "source": [
    "# Import label encoder\n",
    "from sklearn import preprocessing\n",
    "  \n",
    "# label_encoder object knows how to understand word labels.\n",
    "label_encoder = preprocessing.LabelEncoder()\n",
    "  \n",
    "# Encode labels in column 'species'.\n",
    "df_s['property_en']= label_encoder.fit_transform(df_s['Property'])\n",
    "df_s['Type_en']= label_encoder.fit_transform(df_s['Type'])\n",
    "df_s['Rentsale_en']= label_encoder.fit_transform(df_s['Rentsale'])\n",
    "df_s['BHK_en']= label_encoder.fit_transform(df_s['BHK'])\n",
    "df_s['Area_en']= label_encoder.fit_transform(df_s['Area'])\n",
    "df_s['Source_en']= label_encoder.fit_transform(df_s['Source'])"
   ]
  },
  {
   "cell_type": "code",
   "execution_count": 27,
   "metadata": {
    "colab": {
     "base_uri": "https://localhost:8080/",
     "height": 423
    },
    "id": "Fq7zg50YjW4o",
    "outputId": "6ca1e4e9-533a-4668-9ad7-70eddfa80402"
   },
   "outputs": [
    {
     "data": {
      "text/html": [
       "<div>\n",
       "<style scoped>\n",
       "    .dataframe tbody tr th:only-of-type {\n",
       "        vertical-align: middle;\n",
       "    }\n",
       "\n",
       "    .dataframe tbody tr th {\n",
       "        vertical-align: top;\n",
       "    }\n",
       "\n",
       "    .dataframe thead th {\n",
       "        text-align: right;\n",
       "    }\n",
       "</style>\n",
       "<table border=\"1\" class=\"dataframe\">\n",
       "  <thead>\n",
       "    <tr style=\"text-align: right;\">\n",
       "      <th></th>\n",
       "      <th>Property</th>\n",
       "      <th>Type</th>\n",
       "      <th>Rentsale</th>\n",
       "      <th>BHK</th>\n",
       "      <th>Area</th>\n",
       "      <th>Source</th>\n",
       "      <th>DaysonMkt</th>\n",
       "      <th>Amount</th>\n",
       "      <th>property_en</th>\n",
       "      <th>Type_en</th>\n",
       "      <th>Rentsale_en</th>\n",
       "      <th>BHK_en</th>\n",
       "      <th>Area_en</th>\n",
       "      <th>Source_en</th>\n",
       "    </tr>\n",
       "  </thead>\n",
       "  <tbody>\n",
       "    <tr>\n",
       "      <th>0</th>\n",
       "      <td>Commercial</td>\n",
       "      <td>Shop</td>\n",
       "      <td>Rent</td>\n",
       "      <td>2 BHK</td>\n",
       "      <td>other</td>\n",
       "      <td>Magic Bricks</td>\n",
       "      <td>51.0</td>\n",
       "      <td>200000.0</td>\n",
       "      <td>0</td>\n",
       "      <td>4</td>\n",
       "      <td>0</td>\n",
       "      <td>2</td>\n",
       "      <td>32</td>\n",
       "      <td>1</td>\n",
       "    </tr>\n",
       "    <tr>\n",
       "      <th>1</th>\n",
       "      <td>Commercial</td>\n",
       "      <td>Office</td>\n",
       "      <td>Rent</td>\n",
       "      <td>3 BHK</td>\n",
       "      <td>Alwarpet</td>\n",
       "      <td>99 acres</td>\n",
       "      <td>58.0</td>\n",
       "      <td>275000.0</td>\n",
       "      <td>0</td>\n",
       "      <td>2</td>\n",
       "      <td>0</td>\n",
       "      <td>3</td>\n",
       "      <td>1</td>\n",
       "      <td>0</td>\n",
       "    </tr>\n",
       "    <tr>\n",
       "      <th>3</th>\n",
       "      <td>Commercial</td>\n",
       "      <td>Office</td>\n",
       "      <td>Rent</td>\n",
       "      <td>5 BHK</td>\n",
       "      <td>other</td>\n",
       "      <td>99 acres</td>\n",
       "      <td>23.0</td>\n",
       "      <td>400000.0</td>\n",
       "      <td>0</td>\n",
       "      <td>2</td>\n",
       "      <td>0</td>\n",
       "      <td>5</td>\n",
       "      <td>32</td>\n",
       "      <td>0</td>\n",
       "    </tr>\n",
       "    <tr>\n",
       "      <th>4</th>\n",
       "      <td>Commercial</td>\n",
       "      <td>Office</td>\n",
       "      <td>Rent</td>\n",
       "      <td>5 BHK</td>\n",
       "      <td>other</td>\n",
       "      <td>99 acres</td>\n",
       "      <td>3.0</td>\n",
       "      <td>300000.0</td>\n",
       "      <td>0</td>\n",
       "      <td>2</td>\n",
       "      <td>0</td>\n",
       "      <td>5</td>\n",
       "      <td>32</td>\n",
       "      <td>0</td>\n",
       "    </tr>\n",
       "    <tr>\n",
       "      <th>5</th>\n",
       "      <td>Commercial</td>\n",
       "      <td>Office</td>\n",
       "      <td>Rent</td>\n",
       "      <td>4 BHK</td>\n",
       "      <td>Adyar</td>\n",
       "      <td>99 acres</td>\n",
       "      <td>51.0</td>\n",
       "      <td>300000.0</td>\n",
       "      <td>0</td>\n",
       "      <td>2</td>\n",
       "      <td>0</td>\n",
       "      <td>4</td>\n",
       "      <td>0</td>\n",
       "      <td>0</td>\n",
       "    </tr>\n",
       "    <tr>\n",
       "      <th>...</th>\n",
       "      <td>...</td>\n",
       "      <td>...</td>\n",
       "      <td>...</td>\n",
       "      <td>...</td>\n",
       "      <td>...</td>\n",
       "      <td>...</td>\n",
       "      <td>...</td>\n",
       "      <td>...</td>\n",
       "      <td>...</td>\n",
       "      <td>...</td>\n",
       "      <td>...</td>\n",
       "      <td>...</td>\n",
       "      <td>...</td>\n",
       "      <td>...</td>\n",
       "    </tr>\n",
       "    <tr>\n",
       "      <th>939</th>\n",
       "      <td>Residential</td>\n",
       "      <td>Apartment</td>\n",
       "      <td>Sale</td>\n",
       "      <td>3 BHK</td>\n",
       "      <td>other</td>\n",
       "      <td>Magic Bricks</td>\n",
       "      <td>NaN</td>\n",
       "      <td>7500000.0</td>\n",
       "      <td>2</td>\n",
       "      <td>0</td>\n",
       "      <td>1</td>\n",
       "      <td>3</td>\n",
       "      <td>32</td>\n",
       "      <td>1</td>\n",
       "    </tr>\n",
       "    <tr>\n",
       "      <th>940</th>\n",
       "      <td>Residential</td>\n",
       "      <td>Apartment</td>\n",
       "      <td>Sale</td>\n",
       "      <td>2 BHK</td>\n",
       "      <td>other</td>\n",
       "      <td>Magic Bricks</td>\n",
       "      <td>NaN</td>\n",
       "      <td>32500000.0</td>\n",
       "      <td>2</td>\n",
       "      <td>0</td>\n",
       "      <td>1</td>\n",
       "      <td>2</td>\n",
       "      <td>32</td>\n",
       "      <td>1</td>\n",
       "    </tr>\n",
       "    <tr>\n",
       "      <th>941</th>\n",
       "      <td>Residential</td>\n",
       "      <td>Apartment</td>\n",
       "      <td>Sale</td>\n",
       "      <td>2 BHK</td>\n",
       "      <td>other</td>\n",
       "      <td>Magic Bricks</td>\n",
       "      <td>NaN</td>\n",
       "      <td>8300000.0</td>\n",
       "      <td>2</td>\n",
       "      <td>0</td>\n",
       "      <td>1</td>\n",
       "      <td>2</td>\n",
       "      <td>32</td>\n",
       "      <td>1</td>\n",
       "    </tr>\n",
       "    <tr>\n",
       "      <th>942</th>\n",
       "      <td>Residential</td>\n",
       "      <td>Apartment</td>\n",
       "      <td>Sale</td>\n",
       "      <td>3 BHK</td>\n",
       "      <td>RA Puram</td>\n",
       "      <td>Magic Bricks</td>\n",
       "      <td>NaN</td>\n",
       "      <td>22000000.0</td>\n",
       "      <td>2</td>\n",
       "      <td>0</td>\n",
       "      <td>1</td>\n",
       "      <td>3</td>\n",
       "      <td>24</td>\n",
       "      <td>1</td>\n",
       "    </tr>\n",
       "    <tr>\n",
       "      <th>943</th>\n",
       "      <td>Residential</td>\n",
       "      <td>Apartment</td>\n",
       "      <td>Sale</td>\n",
       "      <td>2 BHK</td>\n",
       "      <td>other</td>\n",
       "      <td>Magic Bricks</td>\n",
       "      <td>NaN</td>\n",
       "      <td>7000000.0</td>\n",
       "      <td>2</td>\n",
       "      <td>0</td>\n",
       "      <td>1</td>\n",
       "      <td>2</td>\n",
       "      <td>32</td>\n",
       "      <td>1</td>\n",
       "    </tr>\n",
       "  </tbody>\n",
       "</table>\n",
       "<p>410 rows × 14 columns</p>\n",
       "</div>"
      ],
      "text/plain": [
       "        Property       Type Rentsale    BHK      Area        Source  \\\n",
       "0     Commercial       Shop     Rent  2 BHK     other  Magic Bricks   \n",
       "1     Commercial     Office     Rent  3 BHK  Alwarpet      99 acres   \n",
       "3     Commercial     Office     Rent  5 BHK     other      99 acres   \n",
       "4     Commercial     Office     Rent  5 BHK     other      99 acres   \n",
       "5     Commercial     Office     Rent  4 BHK     Adyar      99 acres   \n",
       "..           ...        ...      ...    ...       ...           ...   \n",
       "939  Residential  Apartment     Sale  3 BHK     other  Magic Bricks   \n",
       "940  Residential  Apartment     Sale  2 BHK     other  Magic Bricks   \n",
       "941  Residential  Apartment     Sale  2 BHK     other  Magic Bricks   \n",
       "942  Residential  Apartment     Sale  3 BHK  RA Puram  Magic Bricks   \n",
       "943  Residential  Apartment     Sale  2 BHK     other  Magic Bricks   \n",
       "\n",
       "     DaysonMkt      Amount  property_en  Type_en  Rentsale_en  BHK_en  \\\n",
       "0         51.0    200000.0            0        4            0       2   \n",
       "1         58.0    275000.0            0        2            0       3   \n",
       "3         23.0    400000.0            0        2            0       5   \n",
       "4          3.0    300000.0            0        2            0       5   \n",
       "5         51.0    300000.0            0        2            0       4   \n",
       "..         ...         ...          ...      ...          ...     ...   \n",
       "939        NaN   7500000.0            2        0            1       3   \n",
       "940        NaN  32500000.0            2        0            1       2   \n",
       "941        NaN   8300000.0            2        0            1       2   \n",
       "942        NaN  22000000.0            2        0            1       3   \n",
       "943        NaN   7000000.0            2        0            1       2   \n",
       "\n",
       "     Area_en  Source_en  \n",
       "0         32          1  \n",
       "1          1          0  \n",
       "3         32          0  \n",
       "4         32          0  \n",
       "5          0          0  \n",
       "..       ...        ...  \n",
       "939       32          1  \n",
       "940       32          1  \n",
       "941       32          1  \n",
       "942       24          1  \n",
       "943       32          1  \n",
       "\n",
       "[410 rows x 14 columns]"
      ]
     },
     "execution_count": 27,
     "metadata": {},
     "output_type": "execute_result"
    }
   ],
   "source": [
    "df_s"
   ]
  },
  {
   "cell_type": "code",
   "execution_count": 28,
   "metadata": {
    "colab": {
     "base_uri": "https://localhost:8080/"
    },
    "id": "QPCqY9qQkJT1",
    "outputId": "5983342a-e1fb-4ef2-bf61-5f6f55c14599"
   },
   "outputs": [
    {
     "data": {
      "text/plain": [
       "Residential    300\n",
       "Commercial     106\n",
       "Independent      4\n",
       "Name: Property, dtype: int64"
      ]
     },
     "execution_count": 28,
     "metadata": {},
     "output_type": "execute_result"
    }
   ],
   "source": [
    "df_s['Property'].value_counts()"
   ]
  },
  {
   "cell_type": "code",
   "execution_count": 29,
   "metadata": {
    "colab": {
     "base_uri": "https://localhost:8080/"
    },
    "id": "PE_ModuNkvjZ",
    "outputId": "f752d006-88d5-4e42-ca33-c635fe4703b1"
   },
   "outputs": [
    {
     "name": "stdout",
     "output_type": "stream",
     "text": [
      "[0 'Commercial' 2 'Residential' 1 'Independent']\n"
     ]
    }
   ],
   "source": [
    "df2 = pd.unique(df_s[['property_en', 'Property']].values.ravel())\n",
    "print(df2)"
   ]
  },
  {
   "cell_type": "code",
   "execution_count": 30,
   "metadata": {
    "colab": {
     "base_uri": "https://localhost:8080/"
    },
    "id": "evekZdLhkx4Y",
    "outputId": "173d7fd6-9a9c-4749-94af-36bc8ae74195"
   },
   "outputs": [
    {
     "data": {
      "text/plain": [
       "Apartment    222\n",
       "Office       102\n",
       "House         80\n",
       "Showroom       3\n",
       "Plot           2\n",
       "Shop           1\n",
       "Name: Type, dtype: int64"
      ]
     },
     "execution_count": 30,
     "metadata": {},
     "output_type": "execute_result"
    }
   ],
   "source": [
    "df_s['Type'].value_counts()"
   ]
  },
  {
   "cell_type": "code",
   "execution_count": 31,
   "metadata": {
    "colab": {
     "base_uri": "https://localhost:8080/"
    },
    "id": "g5-Oxngmk063",
    "outputId": "f76a78bc-706f-48c6-bcfb-beab89df1148"
   },
   "outputs": [
    {
     "name": "stdout",
     "output_type": "stream",
     "text": [
      "[4 'Shop' 2 'Office' 0 'Apartment' 1 'House' 5 'Showroom' 3 'Plot']\n"
     ]
    }
   ],
   "source": [
    "df2 = pd.unique(df_s[['Type_en', 'Type']].values.ravel())\n",
    "print(df2)"
   ]
  },
  {
   "cell_type": "code",
   "execution_count": 32,
   "metadata": {
    "colab": {
     "base_uri": "https://localhost:8080/"
    },
    "id": "uHzCeW8Hkdyo",
    "outputId": "42733bfe-951e-4393-d789-71ac19290bf8"
   },
   "outputs": [
    {
     "data": {
      "text/plain": [
       "6"
      ]
     },
     "execution_count": 32,
     "metadata": {},
     "output_type": "execute_result"
    }
   ],
   "source": [
    "len(df_s['Type'].value_counts())"
   ]
  },
  {
   "cell_type": "code",
   "execution_count": 33,
   "metadata": {
    "colab": {
     "base_uri": "https://localhost:8080/"
    },
    "id": "PmPpricmk8uj",
    "outputId": "5ab0fdff-eda2-49f4-d869-a6bbecdc34f1"
   },
   "outputs": [
    {
     "name": "stdout",
     "output_type": "stream",
     "text": [
      "[0 'Rent' 1 'Sale']\n"
     ]
    }
   ],
   "source": [
    "df2 = pd.unique(df_s[['Rentsale_en', 'Rentsale']].values.ravel())\n",
    "print(df2)"
   ]
  },
  {
   "cell_type": "code",
   "execution_count": 34,
   "metadata": {
    "colab": {
     "base_uri": "https://localhost:8080/"
    },
    "id": "uN7YHySIkdrX",
    "outputId": "0b6798b6-f7fa-4757-cc38-88cf721a7b9b"
   },
   "outputs": [
    {
     "data": {
      "text/plain": [
       "2"
      ]
     },
     "execution_count": 34,
     "metadata": {},
     "output_type": "execute_result"
    }
   ],
   "source": [
    "len(df_s['Rentsale'].value_counts())"
   ]
  },
  {
   "cell_type": "code",
   "execution_count": 35,
   "metadata": {
    "colab": {
     "base_uri": "https://localhost:8080/"
    },
    "id": "_8s1MPGKlJLo",
    "outputId": "854013e8-29ab-4662-c6ab-a1080815dd05"
   },
   "outputs": [
    {
     "name": "stdout",
     "output_type": "stream",
     "text": [
      "[2 '2 BHK' 3 '3 BHK' 5 '5 BHK' 4 '4 BHK' 11 'Office' 6 '6 BHK' 0 '1 BHK' 8\n",
      " '8 BHK' 7 '7 BHK' 1 '10 BHK' 10 'Land' 9 '9 BHK']\n"
     ]
    }
   ],
   "source": [
    "df2 = pd.unique(df_s[['BHK_en', 'BHK']].values.ravel())\n",
    "print(df2)"
   ]
  },
  {
   "cell_type": "code",
   "execution_count": 36,
   "metadata": {
    "colab": {
     "base_uri": "https://localhost:8080/"
    },
    "id": "_H9usFDklQoP",
    "outputId": "641691dc-d90a-441f-c831-7409a17212f2"
   },
   "outputs": [
    {
     "data": {
      "text/plain": [
       "12"
      ]
     },
     "execution_count": 36,
     "metadata": {},
     "output_type": "execute_result"
    }
   ],
   "source": [
    "len(df_s['BHK'].value_counts())"
   ]
  },
  {
   "cell_type": "code",
   "execution_count": 37,
   "metadata": {
    "colab": {
     "base_uri": "https://localhost:8080/"
    },
    "id": "LQMcaaIVlbGV",
    "outputId": "ddb135df-ac60-4be6-f9b4-dfbf70175c9d"
   },
   "outputs": [
    {
     "name": "stdout",
     "output_type": "stream",
     "text": [
      "[32 'other' 1 'Alwarpet' 0 'Adyar' 21 'Nungambakkam' 9 'ECR' 8 'Chetpet'\n",
      " 17 'Kottivakkam' 13 'Kilpauk' 16 'Korattur' 6 'Ashok Nagar' 11\n",
      " 'Ekkatuthangal' 27 'Sholinganallur' 31 'Virugambakkam' 28 'T Nagar' 7\n",
      " 'Besant Nagar' 15 'Kolathur' 22 'OMR' 23 'Porur' 19 'Mylapore' 14\n",
      " 'Kodambakkam' 24 'RA Puram' 2 'Anna Nagar' 29 'Thiruvanmiyur' 18\n",
      " 'Kotturpuram' 26 'Saligramam' 25 'Royapettah' 5\n",
      " 'Anna Nagar, Shanti colony' 4 'Anna Nagar, Anna Nagar West' 12\n",
      " 'Gopalapuram' 10 'Egmore' 20 'Neelankarai' 3\n",
      " 'Anna Nagar, Anna Nagar East' 30 'Velachery']\n"
     ]
    }
   ],
   "source": [
    "df2 = pd.unique(df_s[['Area_en', 'Area']].values.ravel())\n",
    "print(df2)"
   ]
  },
  {
   "cell_type": "code",
   "execution_count": 38,
   "metadata": {
    "colab": {
     "base_uri": "https://localhost:8080/"
    },
    "id": "Py7H4oJ8lkln",
    "outputId": "a3488d97-802a-4095-91a4-80b5d97c055d"
   },
   "outputs": [
    {
     "data": {
      "text/plain": [
       "33"
      ]
     },
     "execution_count": 38,
     "metadata": {},
     "output_type": "execute_result"
    }
   ],
   "source": [
    "len(df_s['Area'].value_counts())"
   ]
  },
  {
   "cell_type": "code",
   "execution_count": 39,
   "metadata": {
    "colab": {
     "base_uri": "https://localhost:8080/"
    },
    "id": "aI494DxzlnWk",
    "outputId": "cd646620-2bb8-411f-bb8e-70c46cd0478c"
   },
   "outputs": [
    {
     "name": "stdout",
     "output_type": "stream",
     "text": [
      "[1 'Magic Bricks' 0 '99 acres']\n"
     ]
    }
   ],
   "source": [
    "df2 = pd.unique(df_s[['Source_en', 'Source']].values.ravel())\n",
    "print(df2)"
   ]
  },
  {
   "cell_type": "code",
   "execution_count": 40,
   "metadata": {
    "colab": {
     "base_uri": "https://localhost:8080/"
    },
    "id": "jFqyM9qPltwG",
    "outputId": "94d8b87d-3a40-4a19-ffb0-9c2c48343d28"
   },
   "outputs": [
    {
     "data": {
      "text/plain": [
       "2"
      ]
     },
     "execution_count": 40,
     "metadata": {},
     "output_type": "execute_result"
    }
   ],
   "source": [
    "len(df_s['Source'].value_counts())"
   ]
  },
  {
   "cell_type": "code",
   "execution_count": 41,
   "metadata": {
    "id": "GCJIHS1jia0g"
   },
   "outputs": [],
   "source": [
    "#df_s= pd.get_dummies(df_s,columns=['Property','Type','Rentsale','BHK','Area','Source'])"
   ]
  },
  {
   "cell_type": "code",
   "execution_count": 42,
   "metadata": {
    "colab": {
     "base_uri": "https://localhost:8080/"
    },
    "id": "GlvF8b62jtvY",
    "outputId": "b323acec-0bbb-4cc1-d5ee-4ce1ac495eff"
   },
   "outputs": [
    {
     "data": {
      "text/plain": [
       "Index(['Property', 'Type', 'Rentsale', 'BHK', 'Area', 'Source', 'DaysonMkt',\n",
       "       'Amount', 'property_en', 'Type_en', 'Rentsale_en', 'BHK_en', 'Area_en',\n",
       "       'Source_en'],\n",
       "      dtype='object')"
      ]
     },
     "execution_count": 42,
     "metadata": {},
     "output_type": "execute_result"
    }
   ],
   "source": [
    "df_s.columns"
   ]
  },
  {
   "cell_type": "code",
   "execution_count": 43,
   "metadata": {
    "id": "OMTCty47YkZG"
   },
   "outputs": [],
   "source": [
    "final_df=df_s[[ 'property_en', 'Type_en', 'Rentsale_en', 'BHK_en', 'Area_en',\n",
    "       'Source_en','DaysonMkt', 'Amount']]"
   ]
  },
  {
   "cell_type": "code",
   "execution_count": 60,
   "metadata": {
    "colab": {
     "base_uri": "https://localhost:8080/"
    },
    "id": "3kk1_0E-YxVS",
    "outputId": "0d407151-5eb2-4918-dd60-0c35ff43fd6e"
   },
   "outputs": [
    {
     "data": {
      "text/plain": [
       "property_en     0\n",
       "Type_en         0\n",
       "Rentsale_en     0\n",
       "BHK_en          0\n",
       "Area_en         0\n",
       "Source_en       0\n",
       "DaysonMkt      10\n",
       "Amount          0\n",
       "dtype: int64"
      ]
     },
     "execution_count": 60,
     "metadata": {},
     "output_type": "execute_result"
    }
   ],
   "source": [
    "final_df.isnull().sum()"
   ]
  },
  {
   "cell_type": "code",
   "execution_count": 44,
   "metadata": {},
   "outputs": [
    {
     "data": {
      "text/plain": [
       "<AxesSubplot:ylabel='Density'>"
      ]
     },
     "execution_count": 44,
     "metadata": {},
     "output_type": "execute_result"
    },
    {
     "data": {
      "image/png": "[encoded data removed]",
      "text/plain": [
       "<Figure size 640x480 with 1 Axes>"
      ]
     },
     "metadata": {},
     "output_type": "display_data"
    }
   ],
   "source": [
    "final_df['DaysonMkt'].plot(kind='kde')"
   ]
  },
  {
   "cell_type": "code",
   "execution_count": 45,
   "metadata": {
    "id": "oF-J48-P_TkQ"
   },
   "outputs": [],
   "source": [
    "x=final_df.iloc[:,:-1]\n",
    "y=final_df.iloc[:,-1]"
   ]
  },
  {
   "cell_type": "code",
   "execution_count": 47,
   "metadata": {
    "colab": {
     "base_uri": "https://localhost:8080/"
    },
    "id": "yTZ1JE-PK7lL",
    "outputId": "f0b5f0d7-10f3-4463-eae1-08cc4dae1551"
   },
   "outputs": [
    {
     "name": "stdout",
     "output_type": "stream",
     "text": [
      "[IterativeImputer] Completing matrix with shape (410, 7)\n",
      "[IterativeImputer] Ending imputation round 1/10, elapsed time 0.02\n",
      "[IterativeImputer] Change: 65.90853666003312, scaled tolerance: 0.56 \n",
      "[IterativeImputer] Ending imputation round 2/10, elapsed time 0.02\n",
      "[IterativeImputer] Change: 0.0, scaled tolerance: 0.56 \n",
      "[IterativeImputer] Early stopping criterion reached.\n"
     ]
    }
   ],
   "source": [
    "import numpy as np\n",
    "from sklearn.experimental import enable_iterative_imputer\n",
    "from sklearn.impute import IterativeImputer\n",
    "from sklearn.linear_model import LinearRegression\n",
    "\n",
    "lr = LinearRegression()\n",
    "imp = IterativeImputer(estimator=lr,missing_values=np.nan, max_iter=10, verbose=2, imputation_order='roman',random_state=0)\n",
    "x=pd.DataFrame(imp.fit_transform(x))"
   ]
  },
  {
   "cell_type": "code",
   "execution_count": 48,
   "metadata": {
    "id": "28XRJXqj772l"
   },
   "outputs": [],
   "source": [
    "import plotly.io as pio\n",
    "plotly_template = pio.templates[\"plotly\"]\n",
    "pio.templates[\"draft\"] = plotly_template\n",
    "additional_colors = (\"#ff057e\", \"#690f54\", \"#bf6524\", \"#176b15\")\n",
    "basic_colors = pio.templates[\"draft\"][\"layout\"][\"colorway\"]\n",
    "h=pio.templates[\"draft\"][\"layout\"][\"colorway\"] = basic_colors + additional_colors\n"
   ]
  },
  {
   "cell_type": "code",
   "execution_count": 50,
   "metadata": {
    "colab": {
     "base_uri": "https://localhost:8080/"
    },
    "id": "nDAk3OaEzLry",
    "outputId": "d7d458df-c376-4811-b131-b3f6f073a554"
   },
   "outputs": [
    {
     "data": {
      "text/plain": [
       "Index(['property_en', 'Type_en', 'Rentsale_en', 'BHK_en', 'Area_en',\n",
       "       'Source_en', 'DaysonMkt', 'Amount'],\n",
       "      dtype='object')"
      ]
     },
     "execution_count": 50,
     "metadata": {},
     "output_type": "execute_result"
    }
   ],
   "source": [
    "final_df.columns"
   ]
  },
  {
   "cell_type": "code",
   "execution_count": null,
   "metadata": {
    "colab": {
     "base_uri": "https://localhost:8080/",
     "height": 537
    },
    "id": "ZPcPcAye6UdY",
    "outputId": "460a90ab-d8f0-45e3-e28c-b26ff2f235ce"
   },
   "outputs": [
    {
     "data": {
      "image/png": "[encoded data removed]",
      "text/plain": [
       "<Figure size 1000x600 with 1 Axes>"
      ]
     },
     "metadata": {},
     "output_type": "display_data"
    }
   ],
   "source": [
    "newdf=final_df.loc[(final_df['Magic_bricks']==1.0)]\n",
    "plot_data = newdf.head(10)[['Commercial', 'Residential','Independent','Shop', 'Office', 'Showroom', 'Apartment', 'House', 'Plot','Magic_bricks','Rent', 'Sale']]\n",
    "plot_data = plot_data.set_index('Magic_bricks')\n",
    "ax = plot_data.plot.bar(stacked=True,figsize=(10,6),color =h)\n",
    "ax.legend(bbox_to_anchor=(1, 1))\n",
    "plt.show()"
   ]
  },
  {
   "cell_type": "code",
   "execution_count": null,
   "metadata": {
    "colab": {
     "base_uri": "https://localhost:8080/",
     "height": 537
    },
    "id": "jkhJmEb8AiRr",
    "outputId": "f52120d2-b3b8-4255-ee7d-65de7bfdeac7"
   },
   "outputs": [
    {
     "data": {
      "image/png": "[encoded data removed]",
      "text/plain": [
       "<Figure size 1000x600 with 1 Axes>"
      ]
     },
     "metadata": {},
     "output_type": "display_data"
    }
   ],
   "source": [
    "newdf=final_df.loc[(final_df['99_acres']==1.0)]\n",
    "plot_data = newdf.head(10)[['Commercial', 'Residential','Independent','Shop', 'Office', 'Showroom', 'Apartment', 'House', 'Plot','99_acres','Rent', 'Sale']]\n",
    "plot_data = plot_data.set_index('99_acres')\n",
    "ax = plot_data.plot.bar(stacked=True,figsize=(10,6),color=h)\n",
    "ax.legend(bbox_to_anchor=(1, 1))\n",
    "plt.show()"
   ]
  },
  {
   "cell_type": "code",
   "execution_count": 51,
   "metadata": {
    "id": "5YIDZou9Kpr5"
   },
   "outputs": [],
   "source": [
    "from sklearn.model_selection import train_test_split \n",
    "x_train, x_test, y_train, y_test = train_test_split(x, y, test_size = 0.2, random_state = 0)"
   ]
  },
  {
   "cell_type": "code",
   "execution_count": 52,
   "metadata": {
    "colab": {
     "base_uri": "https://localhost:8080/",
     "height": 74
    },
    "id": "JgSO2XRuKto0",
    "outputId": "ebe6089b-da44-47f0-e3c5-11eaa32c861f"
   },
   "outputs": [
    {
     "data": {
      "text/plain": [
       "RandomForestRegressor(n_estimators=10, random_state=0)"
      ]
     },
     "execution_count": 52,
     "metadata": {},
     "output_type": "execute_result"
    }
   ],
   "source": [
    "from sklearn.ensemble import RandomForestRegressor\n",
    "rand_reg = RandomForestRegressor(n_estimators = 10, random_state = 0)\n",
    "rand_reg.fit(x_train, y_train)"
   ]
  },
  {
   "cell_type": "code",
   "execution_count": 53,
   "metadata": {
    "id": "JN7IFlNMRto_"
   },
   "outputs": [],
   "source": [
    "y_pred_rfr = rand_reg.predict(x_test)\n",
    "np.set_printoptions(precision=2)\n",
    "#print(np.concatenate((y_pred_rfr.reshape(len(y_pred_rfr),1), y_test.reshape(len(y_test),1)),1))"
   ]
  },
  {
   "cell_type": "code",
   "execution_count": 54,
   "metadata": {
    "colab": {
     "base_uri": "https://localhost:8080/"
    },
    "id": "anzGbP5ORxjo",
    "outputId": "224c2a5e-50af-4a43-84b0-c5d761fc461a"
   },
   "outputs": [
    {
     "name": "stdout",
     "output_type": "stream",
     "text": [
      "0.6898986075404117\n"
     ]
    }
   ],
   "source": [
    "from sklearn.metrics import r2_score\n",
    "rand_score=r2_score(y_test, y_pred_rfr)\n",
    "print(rand_score)"
   ]
  },
  {
   "cell_type": "code",
   "execution_count": 55,
   "metadata": {
    "colab": {
     "base_uri": "https://localhost:8080/"
    },
    "id": "x5Hiu2uF0_hB",
    "outputId": "498839d3-2c4f-4bb2-f1ef-4af7d7f002df"
   },
   "outputs": [
    {
     "name": "stdout",
     "output_type": "stream",
     "text": [
      "Adjusted-R2 :  0.6779716309073505\n"
     ]
    }
   ],
   "source": [
    "N=y_test.shape[0]\n",
    "p=3\n",
    "x = (1-rand_score)\n",
    "y = (N-1) / (N-p-1)\n",
    "adj_rsquared = (1 - (x * y))\n",
    "print(\"Adjusted-R2 : \" , adj_rsquared)"
   ]
  },
  {
   "cell_type": "code",
   "execution_count": 56,
   "metadata": {
    "colab": {
     "base_uri": "https://localhost:8080/"
    },
    "id": "cPd4BXpSOgYL",
    "outputId": "1f9764c6-010b-4bc4-babf-2cf12b3fd02a"
   },
   "outputs": [
    {
     "name": "stdout",
     "output_type": "stream",
     "text": [
      "3777174.3902439023\n",
      "72764568389390.25\n",
      "8530215.025976207\n"
     ]
    }
   ],
   "source": [
    "from math import sqrt\n",
    "from sklearn.metrics import mean_absolute_error,mean_squared_error\n",
    "rfr_mae=mean_absolute_error(y_test, y_pred_rfr)\n",
    "rfr_mse=mean_squared_error(y_test, y_pred_rfr)\n",
    "rfr_rmse=sqrt(rfr_mse)\n",
    "print(rfr_mae)\n",
    "print(rfr_mse)\n",
    "print(rfr_rmse)"
   ]
  },
  {
   "cell_type": "markdown",
   "metadata": {
    "id": "HVjm2iCOf2pQ"
   },
   "source": [
    "Hyper tuning Random regressor"
   ]
  },
  {
   "cell_type": "code",
   "execution_count": 57,
   "metadata": {
    "colab": {
     "base_uri": "https://localhost:8080/"
    },
    "id": "nMxOf7lSRAjV",
    "outputId": "4361c56d-6c25-4e86-bae3-bbce705e09f1"
   },
   "outputs": [
    {
     "name": "stdout",
     "output_type": "stream",
     "text": [
      "Parameters currently in use:\n",
      "\n",
      "{'bootstrap': True,\n",
      " 'ccp_alpha': 0.0,\n",
      " 'criterion': 'squared_error',\n",
      " 'max_depth': None,\n",
      " 'max_features': 'auto',\n",
      " 'max_leaf_nodes': None,\n",
      " 'max_samples': None,\n",
      " 'min_impurity_decrease': 0.0,\n",
      " 'min_samples_leaf': 1,\n",
      " 'min_samples_split': 2,\n",
      " 'min_weight_fraction_leaf': 0.0,\n",
      " 'n_estimators': 100,\n",
      " 'n_jobs': None,\n",
      " 'oob_score': False,\n",
      " 'random_state': None,\n",
      " 'verbose': 0,\n",
      " 'warm_start': False}\n"
     ]
    }
   ],
   "source": [
    "from pprint import pprint\n",
    "rf=RandomForestRegressor()\n",
    "print('Parameters currently in use:\\n')\n",
    "pprint(rf.get_params())"
   ]
  },
  {
   "cell_type": "code",
   "execution_count": 58,
   "metadata": {
    "colab": {
     "base_uri": "https://localhost:8080/"
    },
    "id": "mndLr4nrRK0J",
    "outputId": "434f7606-da14-4f16-c878-8030f027969b"
   },
   "outputs": [
    {
     "name": "stdout",
     "output_type": "stream",
     "text": [
      "{'bootstrap': [True, False],\n",
      " 'max_depth': [10, 20, 30, 40, 50, 60, 70, 80, 90, 100, 110, None],\n",
      " 'max_features': ['auto', 'sqrt'],\n",
      " 'min_samples_leaf': [1, 2, 4],\n",
      " 'min_samples_split': [2, 5, 10],\n",
      " 'n_estimators': [200, 400, 600, 800, 1000, 1200, 1400, 1600, 1800, 2000]}\n"
     ]
    }
   ],
   "source": [
    "from sklearn.model_selection import RandomizedSearchCV\n",
    "n_estimators = [int(x) for x in np.linspace(start = 200, stop = 2000, num = 10)]\n",
    "max_features = ['auto', 'sqrt']\n",
    "max_depth = [int(x) for x in np.linspace(10, 110, num = 11)]\n",
    "max_depth.append(None)\n",
    "min_samples_split = [2, 5, 10]\n",
    "min_samples_leaf = [1, 2, 4]\n",
    "bootstrap = [True, False]\n",
    "random_grid = {'n_estimators': n_estimators,\n",
    "               'max_features': max_features,\n",
    "               'max_depth': max_depth,\n",
    "               'min_samples_split': min_samples_split,\n",
    "               'min_samples_leaf': min_samples_leaf,\n",
    "               'bootstrap': bootstrap}\n",
    "pprint(random_grid)"
   ]
  },
  {
   "cell_type": "code",
   "execution_count": 59,
   "metadata": {
    "colab": {
     "base_uri": "https://localhost:8080/",
     "height": 192
    },
    "id": "kcTPTiPmhdBW",
    "outputId": "92a54f4d-55a3-4d34-e095-63e40bda878b"
   },
   "outputs": [
    {
     "name": "stdout",
     "output_type": "stream",
     "text": [
      "Fitting 3 folds for each of 100 candidates, totalling 300 fits\n"
     ]
    },
    {
     "data": {
      "text/plain": [
       "RandomizedSearchCV(cv=3, estimator=RandomForestRegressor(), n_iter=100,\n",
       "                   n_jobs=-1,\n",
       "                   param_distributions={'bootstrap': [True, False],\n",
       "                                        'max_depth': [10, 20, 30, 40, 50, 60,\n",
       "                                                      70, 80, 90, 100, 110,\n",
       "                                                      None],\n",
       "                                        'max_features': ['auto', 'sqrt'],\n",
       "                                        'min_samples_leaf': [1, 2, 4],\n",
       "                                        'min_samples_split': [2, 5, 10],\n",
       "                                        'n_estimators': [200, 400, 600, 800,\n",
       "                                                         1000, 1200, 1400, 1600,\n",
       "                                                         1800, 2000]},\n",
       "                   random_state=42, verbose=2)"
      ]
     },
     "execution_count": 59,
     "metadata": {},
     "output_type": "execute_result"
    }
   ],
   "source": [
    "rf = RandomForestRegressor()\n",
    "rf_tuned = RandomizedSearchCV(estimator = rf, param_distributions = random_grid, n_iter = 100, cv = 3, verbose=2, random_state=42, n_jobs = -1)\n",
    "rf_tuned.fit(x_train, y_train)"
   ]
  },
  {
   "cell_type": "code",
   "execution_count": 60,
   "metadata": {
    "id": "E_NGtA65KyIW"
   },
   "outputs": [],
   "source": [
    "y_pred_rfs = rf_tuned.predict(x_test)\n",
    "np.set_printoptions(precision=2)\n",
    "#print(np.concatenate((y_pred_rfs.reshape(len(y_pred_rfs),1), y_test.reshape(len(y_test),1)),1))"
   ]
  },
  {
   "cell_type": "code",
   "execution_count": 74,
   "metadata": {
    "colab": {
     "base_uri": "https://localhost:8080/"
    },
    "id": "NRr3UCwRLYTP",
    "outputId": "116fd36e-1ce7-41bc-9050-4e23c9b8859b"
   },
   "outputs": [
    {
     "name": "stdout",
     "output_type": "stream",
     "text": [
      "0.7320312667945108\n"
     ]
    }
   ],
   "source": [
    "from sklearn.metrics import r2_score\n",
    "rtuned_score=r2_score(y_test, y_pred_rfs)\n",
    "print(rtuned_score)"
   ]
  },
  {
   "cell_type": "code",
   "execution_count": 75,
   "metadata": {
    "colab": {
     "base_uri": "https://localhost:8080/"
    },
    "id": "bbsekBD61r3j",
    "outputId": "586e5afc-c954-44a8-e251-6e4c44be684c"
   },
   "outputs": [
    {
     "name": "stdout",
     "output_type": "stream",
     "text": [
      "Adjusted-R2 :  0.7217247770558382\n"
     ]
    }
   ],
   "source": [
    "N=y_test.shape[0]\n",
    "p=3\n",
    "x = (1-rtuned_score)\n",
    "y = (N-1) / (N-p-1)\n",
    "adj_rsquared = (1 - (x * y))\n",
    "print(\"Adjusted-R2 : \" , adj_rsquared)"
   ]
  },
  {
   "cell_type": "code",
   "execution_count": 76,
   "metadata": {
    "colab": {
     "base_uri": "https://localhost:8080/"
    },
    "id": "tWYvOnr3OSsr",
    "outputId": "b3c612f5-cd9d-4cb1-8cb0-fa5a84113b86"
   },
   "outputs": [
    {
     "name": "stdout",
     "output_type": "stream",
     "text": [
      "3187177.1748408\n",
      "62878238175244.91\n",
      "7929579.949483132\n"
     ]
    }
   ],
   "source": [
    "from math import sqrt\n",
    "from sklearn.metrics import mean_absolute_error,mean_squared_error\n",
    "rt_mae=mean_absolute_error(y_test, y_pred_rfs)\n",
    "rt_mse=mean_squared_error(y_test, y_pred_rfs)\n",
    "rt_rmse=sqrt(rt_mse)\n",
    "print(rt_mae)\n",
    "print(rt_mse)\n",
    "print(rt_rmse)"
   ]
  },
  {
   "cell_type": "markdown",
   "metadata": {
    "id": "EMiv441v13Ys"
   },
   "source": [
    "XGBOOST"
   ]
  },
  {
   "cell_type": "code",
   "execution_count": 80,
   "metadata": {
    "id": "nLewkhj3LqMU"
   },
   "outputs": [],
   "source": [
    "import xgboost as xg\n",
    "xgb_r = xg.XGBRegressor(objective ='reg:linear',\n",
    "                  n_estimators = 10, seed = 123)"
   ]
  },
  {
   "cell_type": "code",
   "execution_count": 81,
   "metadata": {
    "colab": {
     "base_uri": "https://localhost:8080/"
    },
    "id": "O_kfjl1hLs-u",
    "outputId": "5bb60087-031f-43e1-9e0e-22fb4b9da626"
   },
   "outputs": [
    {
     "name": "stdout",
     "output_type": "stream",
     "text": [
      "[17:13:06] WARNING: ../src/objective/regression_obj.cu:213: reg:linear is now deprecated in favor of reg:squarederror.\n"
     ]
    }
   ],
   "source": [
    "xgb_r.fit(x_train,y_train)\n",
    "pred_xgb = xgb_r.predict(x_test)"
   ]
  },
  {
   "cell_type": "code",
   "execution_count": 82,
   "metadata": {
    "id": "dCxMfUp0Lwqy"
   },
   "outputs": [],
   "source": [
    "np.set_printoptions(precision=2)\n",
    "#print(np.concatenate((pred_xgb.reshape(len(pred_xgb),1), y_test.reshape(len(y_test),1)),1))"
   ]
  },
  {
   "cell_type": "code",
   "execution_count": 83,
   "metadata": {
    "colab": {
     "base_uri": "https://localhost:8080/"
    },
    "id": "SMZtkqzRLzml",
    "outputId": "338f1852-d13d-43fb-c1e8-23b19f90c8b6"
   },
   "outputs": [
    {
     "data": {
      "text/plain": [
       "0.6655875143077542"
      ]
     },
     "execution_count": 83,
     "metadata": {},
     "output_type": "execute_result"
    }
   ],
   "source": [
    "from sklearn import metrics\n",
    "xgb_score=metrics.r2_score(y_test, pred_xgb)\n",
    "xgb_score"
   ]
  },
  {
   "cell_type": "code",
   "execution_count": 84,
   "metadata": {
    "colab": {
     "base_uri": "https://localhost:8080/"
    },
    "id": "7TyVy2mj18VC",
    "outputId": "9f3709bf-1cd3-437f-93d7-09b66cee2a4b"
   },
   "outputs": [
    {
     "name": "stdout",
     "output_type": "stream",
     "text": [
      "Adjusted-R2 :  0.6527254956272832\n"
     ]
    }
   ],
   "source": [
    "N=y_test.shape[0]\n",
    "p=3\n",
    "x = (1-xgb_score)\n",
    "y = (N-1) / (N-p-1)\n",
    "adj_rsquared = (1 - (x * y))\n",
    "print(\"Adjusted-R2 : \" , adj_rsquared)"
   ]
  },
  {
   "cell_type": "code",
   "execution_count": 85,
   "metadata": {
    "colab": {
     "base_uri": "https://localhost:8080/"
    },
    "id": "w3FE1SgcNsOn",
    "outputId": "ce3cdcac-685c-464b-a1fc-252ec10b0b01"
   },
   "outputs": [
    {
     "name": "stdout",
     "output_type": "stream",
     "text": [
      "3699523.676686357\n",
      "78469109707691.73\n",
      "8858279.161761144\n"
     ]
    }
   ],
   "source": [
    "from math import sqrt\n",
    "from sklearn.metrics import mean_absolute_error,mean_squared_error\n",
    "xgb_mae=mean_absolute_error(y_test, pred_xgb)\n",
    "xgb_mse=mean_squared_error(y_test, pred_xgb)\n",
    "xgb_rmse=sqrt(xgb_mse)\n",
    "print(xgb_mae)\n",
    "print(xgb_mse)\n",
    "print(xgb_rmse)"
   ]
  },
  {
   "cell_type": "code",
   "execution_count": 86,
   "metadata": {
    "colab": {
     "base_uri": "https://localhost:8080/",
     "height": 74
    },
    "id": "CQhA1IUoMGYA",
    "outputId": "511e15cb-8a3f-44fa-9463-32fdd05540ce"
   },
   "outputs": [
    {
     "data": {
      "text/html": [
       "<style>#sk-container-id-3 {color: black;background-color: white;}#sk-container-id-3 pre{padding: 0;}#sk-container-id-3 div.sk-toggleable {background-color: white;}#sk-container-id-3 label.sk-toggleable__label {cursor: pointer;display: block;width: 100%;margin-bottom: 0;padding: 0.3em;box-sizing: border-box;text-align: center;}#sk-container-id-3 label.sk-toggleable__label-arrow:before {content: \"▸\";float: left;margin-right: 0.25em;color: #696969;}#sk-container-id-3 label.sk-toggleable__label-arrow:hover:before {color: black;}#sk-container-id-3 div.sk-estimator:hover label.sk-toggleable__label-arrow:before {color: black;}#sk-container-id-3 div.sk-toggleable__content {max-height: 0;max-width: 0;overflow: hidden;text-align: left;background-color: #f0f8ff;}#sk-container-id-3 div.sk-toggleable__content pre {margin: 0.2em;color: black;border-radius: 0.25em;background-color: #f0f8ff;}#sk-container-id-3 input.sk-toggleable__control:checked~div.sk-toggleable__content {max-height: 200px;max-width: 100%;overflow: auto;}#sk-container-id-3 input.sk-toggleable__control:checked~label.sk-toggleable__label-arrow:before {content: \"▾\";}#sk-container-id-3 div.sk-estimator input.sk-toggleable__control:checked~label.sk-toggleable__label {background-color: #d4ebff;}#sk-container-id-3 div.sk-label input.sk-toggleable__control:checked~label.sk-toggleable__label {background-color: #d4ebff;}#sk-container-id-3 input.sk-hidden--visually {border: 0;clip: rect(1px 1px 1px 1px);clip: rect(1px, 1px, 1px, 1px);height: 1px;margin: -1px;overflow: hidden;padding: 0;position: absolute;width: 1px;}#sk-container-id-3 div.sk-estimator {font-family: monospace;background-color: #f0f8ff;border: 1px dotted black;border-radius: 0.25em;box-sizing: border-box;margin-bottom: 0.5em;}#sk-container-id-3 div.sk-estimator:hover {background-color: #d4ebff;}#sk-container-id-3 div.sk-parallel-item::after {content: \"\";width: 100%;border-bottom: 1px solid gray;flex-grow: 1;}#sk-container-id-3 div.sk-label:hover label.sk-toggleable__label {background-color: #d4ebff;}#sk-container-id-3 div.sk-serial::before {content: \"\";position: absolute;border-left: 1px solid gray;box-sizing: border-box;top: 0;bottom: 0;left: 50%;z-index: 0;}#sk-container-id-3 div.sk-serial {display: flex;flex-direction: column;align-items: center;background-color: white;padding-right: 0.2em;padding-left: 0.2em;position: relative;}#sk-container-id-3 div.sk-item {position: relative;z-index: 1;}#sk-container-id-3 div.sk-parallel {display: flex;align-items: stretch;justify-content: center;background-color: white;position: relative;}#sk-container-id-3 div.sk-item::before, #sk-container-id-3 div.sk-parallel-item::before {content: \"\";position: absolute;border-left: 1px solid gray;box-sizing: border-box;top: 0;bottom: 0;left: 50%;z-index: -1;}#sk-container-id-3 div.sk-parallel-item {display: flex;flex-direction: column;z-index: 1;position: relative;background-color: white;}#sk-container-id-3 div.sk-parallel-item:first-child::after {align-self: flex-end;width: 50%;}#sk-container-id-3 div.sk-parallel-item:last-child::after {align-self: flex-start;width: 50%;}#sk-container-id-3 div.sk-parallel-item:only-child::after {width: 0;}#sk-container-id-3 div.sk-dashed-wrapped {border: 1px dashed gray;margin: 0 0.4em 0.5em 0.4em;box-sizing: border-box;padding-bottom: 0.4em;background-color: white;}#sk-container-id-3 div.sk-label label {font-family: monospace;font-weight: bold;display: inline-block;line-height: 1.2em;}#sk-container-id-3 div.sk-label-container {text-align: center;}#sk-container-id-3 div.sk-container {/* jupyter's `normalize.less` sets `[hidden] { display: none; }` but bootstrap.min.css set `[hidden] { display: none !important; }` so we also need the `!important` here to be able to override the default hidden behavior on the sphinx rendered scikit-learn.org. See: https://github.com/scikit-learn/scikit-learn/issues/21755 */display: inline-block !important;position: relative;}#sk-container-id-3 div.sk-text-repr-fallback {display: none;}</style><div id=\"sk-container-id-3\" class=\"sk-top-container\"><div class=\"sk-text-repr-fallback\"><pre>DecisionTreeRegressor(random_state=0)</pre><b>In a Jupyter environment, please rerun this cell to show the HTML representation or trust the notebook. <br />On GitHub, the HTML representation is unable to render, please try loading this page with nbviewer.org.</b></div><div class=\"sk-container\" hidden><div class=\"sk-item\"><div class=\"sk-estimator sk-toggleable\"><input class=\"sk-toggleable__control sk-hidden--visually\" id=\"sk-estimator-id-5\" type=\"checkbox\" checked><label for=\"sk-estimator-id-5\" class=\"sk-toggleable__label sk-toggleable__label-arrow\">DecisionTreeRegressor</label><div class=\"sk-toggleable__content\"><pre>DecisionTreeRegressor(random_state=0)</pre></div></div></div></div></div>"
      ],
      "text/plain": [
       "DecisionTreeRegressor(random_state=0)"
      ]
     },
     "execution_count": 86,
     "metadata": {},
     "output_type": "execute_result"
    }
   ],
   "source": [
    "from sklearn.tree import DecisionTreeRegressor\n",
    "dec_reg = DecisionTreeRegressor(random_state = 0)\n",
    "dec_reg.fit(x_train, y_train)"
   ]
  },
  {
   "cell_type": "code",
   "execution_count": 88,
   "metadata": {
    "id": "gKVJPqabMKuc"
   },
   "outputs": [],
   "source": [
    "y_pred_de = dec_reg.predict(x_test)\n",
    "np.set_printoptions(precision=2)\n",
    "#print(np.concatenate((y_pred_de.reshape(len(y_pred_de),1), y_test.reshape(len(y_test),1)),1))"
   ]
  },
  {
   "cell_type": "code",
   "execution_count": null,
   "metadata": {
    "id": "ut1YZRu3MUUW"
   },
   "outputs": [],
   "source": [
    "from sklearn.metrics import r2_score\n",
    "dec_score=r2_score(y_test, y_pred_de)\n",
    "dec_score"
   ]
  },
  {
   "cell_type": "code",
   "execution_count": null,
   "metadata": {
    "colab": {
     "base_uri": "https://localhost:8080/"
    },
    "id": "mu9qTzQ-DHeq",
    "outputId": "9608bbfa-942a-4541-e6b9-fc1a91748e07"
   },
   "outputs": [
    {
     "name": "stdout",
     "output_type": "stream",
     "text": [
      "Adjusted-R2 :  0.36077286199936087\n"
     ]
    }
   ],
   "source": [
    "N=y_test.shape[0]\n",
    "p=3\n",
    "x = (1-dec_score)\n",
    "y = (N-1) / (N-p-1)\n",
    "adj_rsquared = (1 - (x * y))\n",
    "print(\"Adjusted-R2 : \" , adj_rsquared)"
   ]
  },
  {
   "cell_type": "code",
   "execution_count": 90,
   "metadata": {
    "colab": {
     "base_uri": "https://localhost:8080/"
    },
    "id": "DEWIJtUnFWU_",
    "outputId": "d3cab5de-a6e8-4fcd-8ff3-7660528b1c9d"
   },
   "outputs": [
    {
     "name": "stdout",
     "output_type": "stream",
     "text": [
      "4367268.292682927\n",
      "105881713634146.34\n",
      "10289884.043765817\n"
     ]
    }
   ],
   "source": [
    "from math import sqrt\n",
    "from sklearn.metrics import mean_absolute_error,mean_squared_error\n",
    "dec_mae=mean_absolute_error(y_test, y_pred_de)\n",
    "dec_mse=mean_squared_error(y_test, y_pred_de)\n",
    "dec_rmse=sqrt(dec_mse)\n",
    "print(dec_mae)\n",
    "print(dec_mse)\n",
    "print(dec_rmse)"
   ]
  },
  {
   "cell_type": "markdown",
   "metadata": {
    "id": "w2tOureZFUdk"
   },
   "source": [
    "CatBoost"
   ]
  },
  {
   "cell_type": "code",
   "execution_count": 91,
   "metadata": {
    "colab": {
     "base_uri": "https://localhost:8080/"
    },
    "id": "Zyh5Rwz2Mmno",
    "outputId": "336fdb41-bdde-4b2a-e1f8-8b9873776cde"
   },
   "outputs": [
    {
     "name": "stdout",
     "output_type": "stream",
     "text": [
      "0:\tlearn: 7512047.1201078\ttotal: 46.4ms\tremaining: 46.4ms\n",
      "1:\tlearn: 6945448.2061254\ttotal: 47.3ms\tremaining: 0us\n"
     ]
    },
    {
     "data": {
      "text/plain": [
       "<catboost.core.CatBoostRegressor at 0x7f73d4f512b0>"
      ]
     },
     "execution_count": 91,
     "metadata": {},
     "output_type": "execute_result"
    }
   ],
   "source": [
    "from catboost import CatBoostRegressor\n",
    "cbr = CatBoostRegressor(iterations=2,\n",
    "                          learning_rate=1,\n",
    "                          depth=2)\n",
    "cbr.fit(x_train, y_train)"
   ]
  },
  {
   "cell_type": "code",
   "execution_count": 92,
   "metadata": {
    "id": "Kcg5J2jyNpE7"
   },
   "outputs": [],
   "source": [
    "y_pred_cb = cbr.predict(x_test)\n",
    "np.set_printoptions(precision=2)\n",
    "#print(np.concatenate((y_pred_cb.reshape(len(y_pred_cb),1), y_test.reshape(len(y_test),1)),1))"
   ]
  },
  {
   "cell_type": "code",
   "execution_count": 93,
   "metadata": {
    "colab": {
     "base_uri": "https://localhost:8080/"
    },
    "id": "9MhK7kAxNtEM",
    "outputId": "e5ec59a6-e76b-460b-baa0-752f107de218"
   },
   "outputs": [
    {
     "data": {
      "text/plain": [
       "0.7560402367686695"
      ]
     },
     "execution_count": 93,
     "metadata": {},
     "output_type": "execute_result"
    }
   ],
   "source": [
    "from sklearn.metrics import r2_score\n",
    "cbr_score=r2_score(y_test, y_pred_cb)\n",
    "cbr_score"
   ]
  },
  {
   "cell_type": "code",
   "execution_count": 94,
   "metadata": {
    "colab": {
     "base_uri": "https://localhost:8080/"
    },
    "id": "dIaqTFTBDMuu",
    "outputId": "c99390db-8e7f-43dc-af37-8d9864161572"
   },
   "outputs": [
    {
     "name": "stdout",
     "output_type": "stream",
     "text": [
      "Adjusted-R2 :  0.7466571689520798\n"
     ]
    }
   ],
   "source": [
    "N=y_test.shape[0]\n",
    "p=3\n",
    "x = (1-cbr_score)\n",
    "y = (N-1) / (N-p-1)\n",
    "adj_rsquared = (1 - (x * y))\n",
    "print(\"Adjusted-R2 : \" , adj_rsquared)"
   ]
  },
  {
   "cell_type": "code",
   "execution_count": 95,
   "metadata": {
    "colab": {
     "base_uri": "https://localhost:8080/"
    },
    "id": "BhCO-DW0DWKh",
    "outputId": "03a497b8-768f-4a94-90b7-6c5025a423d6"
   },
   "outputs": [
    {
     "name": "stdout",
     "output_type": "stream",
     "text": [
      "2996786.9325119555\n",
      "57244589374808.914\n",
      "7566015.422585981\n"
     ]
    }
   ],
   "source": [
    "from math import sqrt\n",
    "from sklearn.metrics import mean_absolute_error,mean_squared_error\n",
    "cbr_mae=mean_absolute_error(y_test, y_pred_cb)\n",
    "cbr_mse=mean_squared_error(y_test, y_pred_cb)\n",
    "cbr_rmse=sqrt(cbr_mse)\n",
    "print(cbr_mae)\n",
    "print(cbr_mse)\n",
    "print(cbr_rmse)"
   ]
  },
  {
   "cell_type": "code",
   "execution_count": 97,
   "metadata": {
    "colab": {
     "base_uri": "https://localhost:8080/",
     "height": 763
    },
    "id": "dCvEEFLdhQZh",
    "outputId": "233a79b4-f787-41ec-8b17-b884bd7e416e"
   },
   "outputs": [
    {
     "data": {
      "image/png": "[encoded data removed]",
      "text/plain": [
       "<Figure size 1000x800 with 1 Axes>"
      ]
     },
     "metadata": {},
     "output_type": "display_data"
    }
   ],
   "source": [
    "mylist=[]\n",
    "mylist2=[]\n",
    "mylist.append(rand_score)\n",
    "mylist2.append(\"Random Forest Regression\")\n",
    "mylist.append(rtuned_score)\n",
    "mylist2.append(\"Random Forest Regression -Tuned\")\n",
    "mylist.append(xgb_score)\n",
    "mylist2.append(\"Extreme Gradient Boost Regression\")\n",
    "mylist.append(dec_score)\n",
    "mylist2.append(\"Decision Tree Regression\")\n",
    "mylist.append(cbr_score)\n",
    "mylist2.append(\"Catboost Regression\")\n",
    "\n",
    "plt.rcParams['figure.figsize']=5,5\n",
    "sns.set_style(\"darkgrid\")\n",
    "plt.figure(figsize=(10,8))\n",
    "ax = sns.barplot(x=mylist2, y=mylist, palette = \"mako\", saturation =1.5)\n",
    "plt.xlabel(\"Classification Models\", fontsize = 14 )\n",
    "plt.ylabel(\"Accuracy\", fontsize = 14)\n",
    "plt.title(\"Accuracy of different Classification Models\", fontsize = 14)\n",
    "plt.xticks(fontsize = 11, horizontalalignment = 'center', rotation = 8)\n",
    "plt.yticks(fontsize = 13)\n",
    "for p in ax.patches:\n",
    "    width, height = p.get_width(), p.get_height()\n",
    "    x, y = p.get_xy() \n",
    "    ax.annotate(f'{height:.2%}', (x + width/2, y + height*1.02), ha='center', fontsize = 'x-large')\n",
    "plt.show()"
   ]
  },
  {
   "cell_type": "code",
   "execution_count": 98,
   "metadata": {
    "id": "QY09kPFRbKpd"
   },
   "outputs": [],
   "source": [
    "import pickle\n",
    "file = open('3PIN.pkl', 'wb')\n",
    "pickle.dump(cbr, file)"
   ]
  }
 ],
 "metadata": {
  "colab": {
   "provenance": []
  },
  "kernelspec": {
   "display_name": "Python 3 (ipykernel)",
   "language": "python",
   "name": "python3"
  },
  "language_info": {
   "codemirror_mode": {
    "name": "ipython",
    "version": 3
   },
   "file_extension": ".py",
   "mimetype": "text/x-python",
   "name": "python",
   "nbconvert_exporter": "python",
   "pygments_lexer": "ipython3",
   "version": "3.9.13"
  }
 },
 "nbformat": 4,
 "nbformat_minor": 1
}
